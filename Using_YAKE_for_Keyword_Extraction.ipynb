{
  "nbformat": 4,
  "nbformat_minor": 0,
  "metadata": {
    "colab": {
      "provenance": []
    },
    "kernelspec": {
      "name": "python3",
      "display_name": "Python 3"
    },
    "language_info": {
      "name": "python"
    }
  },
  "cells": [
    {
      "cell_type": "code",
      "execution_count": null,
      "metadata": {
        "colab": {
          "base_uri": "https://localhost:8080/"
        },
        "id": "oVicN4h0Ioiz",
        "outputId": "c90ceb79-78a9-49c1-f12d-7a0b5bf7e083"
      },
      "outputs": [
        {
          "output_type": "stream",
          "name": "stdout",
          "text": [
            "Mounted at /content/drive\n"
          ]
        }
      ],
      "source": [
        "from google.colab import drive\n",
        "drive.mount('/content/drive', force_remount = True)"
      ]
    },
    {
      "cell_type": "code",
      "source": [
        "cd drive/MyDrive/'Gyan Summarization'"
      ],
      "metadata": {
        "colab": {
          "base_uri": "https://localhost:8080/"
        },
        "id": "fXZ7qh4DI6Ow",
        "outputId": "8445fbb6-b446-4f70-ed36-2c6a7aea5f77"
      },
      "execution_count": null,
      "outputs": [
        {
          "output_type": "stream",
          "name": "stdout",
          "text": [
            "/content/drive/.shortcut-targets-by-id/1aq8al2Fz8h5YEHumL3l9KkJrASRnm_ro/Gyan Summarization\n"
          ]
        }
      ]
    },
    {
      "cell_type": "code",
      "source": [
        "ls"
      ],
      "metadata": {
        "colab": {
          "base_uri": "https://localhost:8080/"
        },
        "id": "gwRlQNGteSX-",
        "outputId": "21b36b5c-8843-4694-ebd9-1618a44b2c81"
      },
      "execution_count": null,
      "outputs": [
        {
          "output_type": "stream",
          "name": "stdout",
          "text": [
            "Cleaned-data-2022.csv         Gyan_data_2022_Aug.gsheet\n",
            "Cleaned-data-intern-2022.csv  Gyan_data_intern_2022_Aug.csv\n",
            "\u001b[0m\u001b[01;34mCleaning-datasets\u001b[0m/            \u001b[01;34mNotebooks\u001b[0m/\n",
            "\u001b[01;34mExtracting-keywords\u001b[0m/          \u001b[01;34mSummarization-trials\u001b[0m/\n",
            "Gyan_data_2022_Aug.csv        \u001b[01;34mText-visualization\u001b[0m/\n"
          ]
        }
      ]
    },
    {
      "cell_type": "code",
      "source": [
        "import numpy as np\n",
        "import pandas as pd"
      ],
      "metadata": {
        "id": "xFsneG-LJDN5"
      },
      "execution_count": null,
      "outputs": []
    },
    {
      "cell_type": "code",
      "source": [
        "# file = 'Cleaned-data-2022.csv'\n",
        "# json_export = 'extracted-keyphrases.json'\n",
        "\n",
        "file = 'Cleaned-data-intern-2022.csv'\n",
        "json_export = 'per-company-extracted-keyphrases-intern.json'"
      ],
      "metadata": {
        "id": "PPSNAD6EJTNA"
      },
      "execution_count": null,
      "outputs": []
    },
    {
      "cell_type": "code",
      "source": [
        "cleaned_df = pd.read_csv(file)\n",
        "cleaned_df.head()"
      ],
      "metadata": {
        "colab": {
          "base_uri": "https://localhost:8080/",
          "height": 206
        },
        "id": "U6C79FwPKoGg",
        "outputId": "3af4c502-a936-4575-a14c-4f3ba6def802"
      },
      "execution_count": null,
      "outputs": [
        {
          "output_type": "execute_result",
          "data": {
            "text/plain": [
              "   Year   Company Profile Location Procedure Preparation Experience Advice  \\\n",
              "0  2018    nvidia     NaN      NaN       NaN         NaN        NaN    NaN   \n",
              "1  2018    nvidia     NaN      NaN       NaN         NaN        NaN    NaN   \n",
              "2  2018    nvidia     NaN      NaN       NaN         NaN        NaN    NaN   \n",
              "3  2018  qualcomm     NaN      NaN       NaN         NaN        NaN    NaN   \n",
              "4  2018  qualcomm     NaN      NaN       NaN         NaN        NaN    NaN   \n",
              "\n",
              "  Tips     Category  CGPA  \n",
              "0  NaN  internships   0.0  \n",
              "1  NaN  internships   0.0  \n",
              "2  NaN  internships   0.0  \n",
              "3  NaN  internships   0.0  \n",
              "4  NaN  internships   0.0  "
            ],
            "text/html": [
              "\n",
              "  <div id=\"df-d788e9b0-f7ba-4295-ada3-28fdf2123768\">\n",
              "    <div class=\"colab-df-container\">\n",
              "      <div>\n",
              "<style scoped>\n",
              "    .dataframe tbody tr th:only-of-type {\n",
              "        vertical-align: middle;\n",
              "    }\n",
              "\n",
              "    .dataframe tbody tr th {\n",
              "        vertical-align: top;\n",
              "    }\n",
              "\n",
              "    .dataframe thead th {\n",
              "        text-align: right;\n",
              "    }\n",
              "</style>\n",
              "<table border=\"1\" class=\"dataframe\">\n",
              "  <thead>\n",
              "    <tr style=\"text-align: right;\">\n",
              "      <th></th>\n",
              "      <th>Year</th>\n",
              "      <th>Company</th>\n",
              "      <th>Profile</th>\n",
              "      <th>Location</th>\n",
              "      <th>Procedure</th>\n",
              "      <th>Preparation</th>\n",
              "      <th>Experience</th>\n",
              "      <th>Advice</th>\n",
              "      <th>Tips</th>\n",
              "      <th>Category</th>\n",
              "      <th>CGPA</th>\n",
              "    </tr>\n",
              "  </thead>\n",
              "  <tbody>\n",
              "    <tr>\n",
              "      <th>0</th>\n",
              "      <td>2018</td>\n",
              "      <td>nvidia</td>\n",
              "      <td>NaN</td>\n",
              "      <td>NaN</td>\n",
              "      <td>NaN</td>\n",
              "      <td>NaN</td>\n",
              "      <td>NaN</td>\n",
              "      <td>NaN</td>\n",
              "      <td>NaN</td>\n",
              "      <td>internships</td>\n",
              "      <td>0.0</td>\n",
              "    </tr>\n",
              "    <tr>\n",
              "      <th>1</th>\n",
              "      <td>2018</td>\n",
              "      <td>nvidia</td>\n",
              "      <td>NaN</td>\n",
              "      <td>NaN</td>\n",
              "      <td>NaN</td>\n",
              "      <td>NaN</td>\n",
              "      <td>NaN</td>\n",
              "      <td>NaN</td>\n",
              "      <td>NaN</td>\n",
              "      <td>internships</td>\n",
              "      <td>0.0</td>\n",
              "    </tr>\n",
              "    <tr>\n",
              "      <th>2</th>\n",
              "      <td>2018</td>\n",
              "      <td>nvidia</td>\n",
              "      <td>NaN</td>\n",
              "      <td>NaN</td>\n",
              "      <td>NaN</td>\n",
              "      <td>NaN</td>\n",
              "      <td>NaN</td>\n",
              "      <td>NaN</td>\n",
              "      <td>NaN</td>\n",
              "      <td>internships</td>\n",
              "      <td>0.0</td>\n",
              "    </tr>\n",
              "    <tr>\n",
              "      <th>3</th>\n",
              "      <td>2018</td>\n",
              "      <td>qualcomm</td>\n",
              "      <td>NaN</td>\n",
              "      <td>NaN</td>\n",
              "      <td>NaN</td>\n",
              "      <td>NaN</td>\n",
              "      <td>NaN</td>\n",
              "      <td>NaN</td>\n",
              "      <td>NaN</td>\n",
              "      <td>internships</td>\n",
              "      <td>0.0</td>\n",
              "    </tr>\n",
              "    <tr>\n",
              "      <th>4</th>\n",
              "      <td>2018</td>\n",
              "      <td>qualcomm</td>\n",
              "      <td>NaN</td>\n",
              "      <td>NaN</td>\n",
              "      <td>NaN</td>\n",
              "      <td>NaN</td>\n",
              "      <td>NaN</td>\n",
              "      <td>NaN</td>\n",
              "      <td>NaN</td>\n",
              "      <td>internships</td>\n",
              "      <td>0.0</td>\n",
              "    </tr>\n",
              "  </tbody>\n",
              "</table>\n",
              "</div>\n",
              "      <button class=\"colab-df-convert\" onclick=\"convertToInteractive('df-d788e9b0-f7ba-4295-ada3-28fdf2123768')\"\n",
              "              title=\"Convert this dataframe to an interactive table.\"\n",
              "              style=\"display:none;\">\n",
              "        \n",
              "  <svg xmlns=\"http://www.w3.org/2000/svg\" height=\"24px\"viewBox=\"0 0 24 24\"\n",
              "       width=\"24px\">\n",
              "    <path d=\"M0 0h24v24H0V0z\" fill=\"none\"/>\n",
              "    <path d=\"M18.56 5.44l.94 2.06.94-2.06 2.06-.94-2.06-.94-.94-2.06-.94 2.06-2.06.94zm-11 1L8.5 8.5l.94-2.06 2.06-.94-2.06-.94L8.5 2.5l-.94 2.06-2.06.94zm10 10l.94 2.06.94-2.06 2.06-.94-2.06-.94-.94-2.06-.94 2.06-2.06.94z\"/><path d=\"M17.41 7.96l-1.37-1.37c-.4-.4-.92-.59-1.43-.59-.52 0-1.04.2-1.43.59L10.3 9.45l-7.72 7.72c-.78.78-.78 2.05 0 2.83L4 21.41c.39.39.9.59 1.41.59.51 0 1.02-.2 1.41-.59l7.78-7.78 2.81-2.81c.8-.78.8-2.07 0-2.86zM5.41 20L4 18.59l7.72-7.72 1.47 1.35L5.41 20z\"/>\n",
              "  </svg>\n",
              "      </button>\n",
              "      \n",
              "  <style>\n",
              "    .colab-df-container {\n",
              "      display:flex;\n",
              "      flex-wrap:wrap;\n",
              "      gap: 12px;\n",
              "    }\n",
              "\n",
              "    .colab-df-convert {\n",
              "      background-color: #E8F0FE;\n",
              "      border: none;\n",
              "      border-radius: 50%;\n",
              "      cursor: pointer;\n",
              "      display: none;\n",
              "      fill: #1967D2;\n",
              "      height: 32px;\n",
              "      padding: 0 0 0 0;\n",
              "      width: 32px;\n",
              "    }\n",
              "\n",
              "    .colab-df-convert:hover {\n",
              "      background-color: #E2EBFA;\n",
              "      box-shadow: 0px 1px 2px rgba(60, 64, 67, 0.3), 0px 1px 3px 1px rgba(60, 64, 67, 0.15);\n",
              "      fill: #174EA6;\n",
              "    }\n",
              "\n",
              "    [theme=dark] .colab-df-convert {\n",
              "      background-color: #3B4455;\n",
              "      fill: #D2E3FC;\n",
              "    }\n",
              "\n",
              "    [theme=dark] .colab-df-convert:hover {\n",
              "      background-color: #434B5C;\n",
              "      box-shadow: 0px 1px 3px 1px rgba(0, 0, 0, 0.15);\n",
              "      filter: drop-shadow(0px 1px 2px rgba(0, 0, 0, 0.3));\n",
              "      fill: #FFFFFF;\n",
              "    }\n",
              "  </style>\n",
              "\n",
              "      <script>\n",
              "        const buttonEl =\n",
              "          document.querySelector('#df-d788e9b0-f7ba-4295-ada3-28fdf2123768 button.colab-df-convert');\n",
              "        buttonEl.style.display =\n",
              "          google.colab.kernel.accessAllowed ? 'block' : 'none';\n",
              "\n",
              "        async function convertToInteractive(key) {\n",
              "          const element = document.querySelector('#df-d788e9b0-f7ba-4295-ada3-28fdf2123768');\n",
              "          const dataTable =\n",
              "            await google.colab.kernel.invokeFunction('convertToInteractive',\n",
              "                                                     [key], {});\n",
              "          if (!dataTable) return;\n",
              "\n",
              "          const docLinkHtml = 'Like what you see? Visit the ' +\n",
              "            '<a target=\"_blank\" href=https://colab.research.google.com/notebooks/data_table.ipynb>data table notebook</a>'\n",
              "            + ' to learn more about interactive tables.';\n",
              "          element.innerHTML = '';\n",
              "          dataTable['output_type'] = 'display_data';\n",
              "          await google.colab.output.renderOutput(dataTable, element);\n",
              "          const docLink = document.createElement('div');\n",
              "          docLink.innerHTML = docLinkHtml;\n",
              "          element.appendChild(docLink);\n",
              "        }\n",
              "      </script>\n",
              "    </div>\n",
              "  </div>\n",
              "  "
            ]
          },
          "metadata": {},
          "execution_count": 6
        }
      ]
    },
    {
      "cell_type": "code",
      "source": [
        "# Filling na with 0 or ''\n",
        "for col in cleaned_df.columns:\n",
        "  dt = cleaned_df[col].dtype\n",
        "  if dt == int or dt == float:\n",
        "    cleaned_df[col].fillna(0, inplace = True)\n",
        "  else:\n",
        "    cleaned_df[col].fillna('', inplace = True)"
      ],
      "metadata": {
        "id": "undR9RY7SdQp"
      },
      "execution_count": null,
      "outputs": []
    },
    {
      "cell_type": "code",
      "source": [
        "important_cols = cleaned_df.columns[4:9]"
      ],
      "metadata": {
        "id": "ViO7bZJZKw5g"
      },
      "execution_count": null,
      "outputs": []
    },
    {
      "cell_type": "code",
      "source": [
        "pip install yake summa"
      ],
      "metadata": {
        "colab": {
          "base_uri": "https://localhost:8080/"
        },
        "id": "8BNJjwvgfNEt",
        "outputId": "c0486024-4d55-445c-9a63-cee6ad522093"
      },
      "execution_count": null,
      "outputs": [
        {
          "output_type": "stream",
          "name": "stdout",
          "text": [
            "Looking in indexes: https://pypi.org/simple, https://us-python.pkg.dev/colab-wheels/public/simple/\n",
            "Collecting yake\n",
            "  Downloading yake-0.4.8-py2.py3-none-any.whl (60 kB)\n",
            "\u001b[K     |████████████████████████████████| 60 kB 4.3 MB/s \n",
            "\u001b[?25hCollecting summa\n",
            "  Downloading summa-1.2.0.tar.gz (54 kB)\n",
            "\u001b[K     |████████████████████████████████| 54 kB 3.9 MB/s \n",
            "\u001b[?25hRequirement already satisfied: click>=6.0 in /usr/local/lib/python3.8/dist-packages (from yake) (7.1.2)\n",
            "Requirement already satisfied: networkx in /usr/local/lib/python3.8/dist-packages (from yake) (2.8.8)\n",
            "Requirement already satisfied: numpy in /usr/local/lib/python3.8/dist-packages (from yake) (1.21.6)\n",
            "Collecting jellyfish\n",
            "  Downloading jellyfish-0.9.0.tar.gz (132 kB)\n",
            "\u001b[K     |████████████████████████████████| 132 kB 44.5 MB/s \n",
            "\u001b[?25hRequirement already satisfied: tabulate in /usr/local/lib/python3.8/dist-packages (from yake) (0.8.10)\n",
            "Collecting segtok\n",
            "  Downloading segtok-1.5.11-py3-none-any.whl (24 kB)\n",
            "Requirement already satisfied: scipy>=0.19 in /usr/local/lib/python3.8/dist-packages (from summa) (1.7.3)\n",
            "Requirement already satisfied: regex in /usr/local/lib/python3.8/dist-packages (from segtok->yake) (2022.6.2)\n",
            "Building wheels for collected packages: summa, jellyfish\n",
            "  Building wheel for summa (setup.py) ... \u001b[?25l\u001b[?25hdone\n",
            "  Created wheel for summa: filename=summa-1.2.0-py3-none-any.whl size=54410 sha256=bff5c487b5fb1155b833e24130e3795fcf9748b206b4d76bfed6c20b738d78cb\n",
            "  Stored in directory: /root/.cache/pip/wheels/fd/6a/dd/209eb19d5f2266b9cfd06827539bf70435b0ad5fe8244e52d3\n",
            "  Building wheel for jellyfish (setup.py) ... \u001b[?25l\u001b[?25hdone\n",
            "  Created wheel for jellyfish: filename=jellyfish-0.9.0-cp38-cp38-linux_x86_64.whl size=70609 sha256=19003c22ebc931af0578272c63cb0cee2291fb7e5d11b0bc19e3f6213b9ed454\n",
            "  Stored in directory: /root/.cache/pip/wheels/f1/c7/3c/4c83132de76359e3a429fd09c08995945ca96c5290a41651d3\n",
            "Successfully built summa jellyfish\n",
            "Installing collected packages: segtok, jellyfish, yake, summa\n",
            "Successfully installed jellyfish-0.9.0 segtok-1.5.11 summa-1.2.0 yake-0.4.8\n"
          ]
        }
      ]
    },
    {
      "cell_type": "code",
      "source": [
        "# YAKE\n",
        "import yake\n",
        "kw_extractor = yake.KeywordExtractor(top = 50, stopwords = None)"
      ],
      "metadata": {
        "id": "l2yk_QwxfOaH"
      },
      "execution_count": null,
      "outputs": []
    },
    {
      "cell_type": "code",
      "source": [
        "cleaned_df['Company'].value_counts()"
      ],
      "metadata": {
        "colab": {
          "base_uri": "https://localhost:8080/"
        },
        "id": "K6pvIzBnf0IF",
        "outputId": "7d18b8a6-1d8f-45d5-b061-2fdffeca7a79"
      },
      "execution_count": null,
      "outputs": [
        {
          "output_type": "execute_result",
          "data": {
            "text/plain": [
              "oracle india          55\n",
              "microsoft             54\n",
              "visa inc .            49\n",
              "texas instruments     47\n",
              "intel technology      45\n",
              "                      ..\n",
              "nasdaq                 1\n",
              "larsen toubro ltd      1\n",
              "netapp                 1\n",
              "radisys india          1\n",
              "stmicroelectronics     1\n",
              "Name: Company, Length: 216, dtype: int64"
            ]
          },
          "metadata": {},
          "execution_count": 11
        }
      ]
    },
    {
      "cell_type": "code",
      "source": [
        "unique_companies = cleaned_df['Company'].unique()\n",
        "print(unique_companies)\n",
        "print(len(unique_companies))"
      ],
      "metadata": {
        "colab": {
          "base_uri": "https://localhost:8080/"
        },
        "id": "63ORaD35gSxA",
        "outputId": "9f75594b-8a67-4de7-c673-6d71ad59dde5"
      },
      "execution_count": null,
      "outputs": [
        {
          "output_type": "stream",
          "name": "stdout",
          "text": [
            "['nvidia' 'qualcomm' 'royal bank of scotland' 'samsung r d'\n",
            " 'samsung r d institute bangalore' 'samsung semiconductor india r d'\n",
            " 'sandisk' 'solarium' 'solarium technologies' 'solarium technologies ltd'\n",
            " 'texas instruments' 'tu braunschweig' 'ugam solutions'\n",
            " 'universite de montreal canada through mitacs globalink research internship program'\n",
            " 'university of lubeck germany' 'wells fargo' 'adobe' 'arcesium' 'archler'\n",
            " 'arista networks' 'arm' 'bosch' 'citi corp' 'deloitte' 'digiteyes '\n",
            " 'efftronics' 'fidelity investments' 'fireeye' 'fourth frontier'\n",
            " 'goldman sachs' 'google zurich switzerland office ' 'google hyderabad'\n",
            " 'intuit' 'j p morgan chase co' 'jp morgan chase co' 'jpmorgan chase co'\n",
            " 'krazybee' 'maq software' 'microsoft' 'morgan stanley'\n",
            " 'plivo communications pvt . ltd . bangalore' 'samsung'\n",
            " 'samsung r d bangalore srib '\n",
            " 'samsung bangalore hepia university switzerland cern switzerland'\n",
            " 'tum munich germany' 'visa inc .' 'vmware' 'wooqer'\n",
            " 'hsbc technology india' 'myntra designs' 'j p morgan' 'walmart labs'\n",
            " 'wellsfargo' 'hewlett packard' 'sprinklr india'\n",
            " 'samsung semiconductor india' 'cisco systems' 'textron india'\n",
            " 'gep solutions' 'credit suisse' 'citi bank india' 'l t construction'\n",
            " 'arcesium india' 'impel labs' 'dell emc' 'zs associates' 'sap lab'\n",
            " 'caterpillar india' 'graphene health tech' 'capgemini' 'exxonmobil'\n",
            " 'exl service' 'deusche bank' 'fidelity business services' 'radisys india'\n",
            " 'bajaj auto' 'wabco india limited' 'netapp' 'edvizo media' 'amd india'\n",
            " 'axis bank' 'intuit india' 'microland' 'kpit technologies' 'quantiphi'\n",
            " 'larsen toubro ltd' 'vedanta group' 'arvind internet' 'nasdaq'\n",
            " 'amazon india' 'tejas networks' 'ittiam systems' 'gail india limited'\n",
            " 'siemens gamesa renewable energy' 'nreach online services'\n",
            " 'intel technology' 'thermax' 'thermo fisher scientific'\n",
            " 'commscope networks' 'ge india' 'maxlinear technologies india'\n",
            " 'robert bosch engg' 'iocl' 'propelld' 'ibm india' 'analog devices'\n",
            " 'kla tencor software' 'technipfmc india' 'cartesian consulting'\n",
            " 'huawei technologies' 'nxp india' 'national instruments'\n",
            " 'reliance industries' 'c dot' 'wirtgen india' 'vvf india ltd .'\n",
            " 'mediatek' 'tata motors' 'siemens technology services' 'genpact'\n",
            " 'nestaway technologies' 'belong technologies' 'tata chemicals'\n",
            " 'saraswati online .com academy' 'hsbc electronic data processing'\n",
            " 'wipro limited' 'widasconcepts' 'l t infra' 'mrf limited' 'efd induction'\n",
            " 'neutrinos technology' 'hls asia' 'aarvee associates'\n",
            " 'endurance technologies' 'jsw steel ltd' 'beml' 'dquotient'\n",
            " 'enzene biosciences' 'afcons infrastructure' 'tavant technologies'\n",
            " 'john deere' 'mercedes benz r d' 'mahindra mahindra' 'oracle india'\n",
            " 'd e shaw' 'amazon' 'honeywell technology' 'infoworks data' 'wipro'\n",
            " 'publicis sapient' 'flipkart' 'adobe systems' 'ather energy' 'citi india'\n",
            " 'abinbev' 'swiggy' 'ansys software' 'uber india' 'standard chartered gbs'\n",
            " 'american express' 'boeing' 'l t infotech' 'tenovia solutions'\n",
            " 'saint gobain india' 'applied materials' 'osi energy automation india'\n",
            " 'dell technologies' 'gnani innovations' 'kla tencor' 'pulse secure'\n",
            " 'cadence design systems' 'droona innovations india pvt . ltd'\n",
            " 'siemens technology' 'peacock solar' 'nxp semiconductors'\n",
            " 'volvo group india' 'tata steel' 'mtr foods' 'cummins india limited'\n",
            " 'dr . reddy s laboratories' 'servicenow' 'deutsche bank'\n",
            " 'sedemac mechatronics pvt ltd' 'hewlett packard enterprise'\n",
            " 'royal bank of scotland natwest group ' 'strand life sciences'\n",
            " 'ushur technologies' 'deskera systems' 'ipetronik india private limited'\n",
            " 'optum uhg' 'becton dickinson' 'ford motors india private limited'\n",
            " 'fractal analytics' 'garrett motion technologies pvt ltd' 'dbs bank'\n",
            " 'micron' 'legato health technologies' 'mphasis limited normal '\n",
            " 'google india' 'de shaw' 'barclays' 'disney hotstar' 'mathworks'\n",
            " 'ge healthcare' 'twilio' 'accenture' 'virtueinfo tech'\n",
            " 'pidilite industries' 'pricewaterhousecoopers pwc ' 'machani group'\n",
            " 'arm embedded technologies pvt ltd' 'tcs' 'outlook publishing'\n",
            " 'hoggy litifer technologies pvt . ltd . ' 'databricks'\n",
            " 'stmicroelectronics']\n",
            "216\n"
          ]
        }
      ]
    },
    {
      "cell_type": "code",
      "source": [
        "keywords = {}\n",
        "\n",
        "for company in unique_companies:\n",
        "  company_df = cleaned_df[cleaned_df['Company'] == company]\n",
        "\n",
        "  full_text = {}\n",
        "  for col in important_cols:\n",
        "    full_text[col] = ''\n",
        "    for row in company_df[col]:\n",
        "      full_text[col] += f' {row}'\n",
        "\n",
        "  keywords[company] = {}\n",
        "  for col in important_cols:\n",
        "    keywords[company][col] = kw_extractor.extract_keywords(full_text[col])\n",
        "\n",
        "print(keywords.keys())"
      ],
      "metadata": {
        "colab": {
          "base_uri": "https://localhost:8080/"
        },
        "id": "GXEqnPXxK-46",
        "outputId": "f350d716-d8dc-4f2b-82f2-246256e0e402"
      },
      "execution_count": null,
      "outputs": [
        {
          "output_type": "stream",
          "name": "stdout",
          "text": [
            "dict_keys(['nvidia', 'qualcomm', 'royal bank of scotland', 'samsung r d', 'samsung r d institute bangalore', 'samsung semiconductor india r d', 'sandisk', 'solarium', 'solarium technologies', 'solarium technologies ltd', 'texas instruments', 'tu braunschweig', 'ugam solutions', 'universite de montreal canada through mitacs globalink research internship program', 'university of lubeck germany', 'wells fargo', 'adobe', 'arcesium', 'archler', 'arista networks', 'arm', 'bosch', 'citi corp', 'deloitte', 'digiteyes ', 'efftronics', 'fidelity investments', 'fireeye', 'fourth frontier', 'goldman sachs', 'google zurich switzerland office ', 'google hyderabad', 'intuit', 'j p morgan chase co', 'jp morgan chase co', 'jpmorgan chase co', 'krazybee', 'maq software', 'microsoft', 'morgan stanley', 'plivo communications pvt . ltd . bangalore', 'samsung', 'samsung r d bangalore srib ', 'samsung bangalore hepia university switzerland cern switzerland', 'tum munich germany', 'visa inc .', 'vmware', 'wooqer', 'hsbc technology india', 'myntra designs', 'j p morgan', 'walmart labs', 'wellsfargo', 'hewlett packard', 'sprinklr india', 'samsung semiconductor india', 'cisco systems', 'textron india', 'gep solutions', 'credit suisse', 'citi bank india', 'l t construction', 'arcesium india', 'impel labs', 'dell emc', 'zs associates', 'sap lab', 'caterpillar india', 'graphene health tech', 'capgemini', 'exxonmobil', 'exl service', 'deusche bank', 'fidelity business services', 'radisys india', 'bajaj auto', 'wabco india limited', 'netapp', 'edvizo media', 'amd india', 'axis bank', 'intuit india', 'microland', 'kpit technologies', 'quantiphi', 'larsen toubro ltd', 'vedanta group', 'arvind internet', 'nasdaq', 'amazon india', 'tejas networks', 'ittiam systems', 'gail india limited', 'siemens gamesa renewable energy', 'nreach online services', 'intel technology', 'thermax', 'thermo fisher scientific', 'commscope networks', 'ge india', 'maxlinear technologies india', 'robert bosch engg', 'iocl', 'propelld', 'ibm india', 'analog devices', 'kla tencor software', 'technipfmc india', 'cartesian consulting', 'huawei technologies', 'nxp india', 'national instruments', 'reliance industries', 'c dot', 'wirtgen india', 'vvf india ltd .', 'mediatek', 'tata motors', 'siemens technology services', 'genpact', 'nestaway technologies', 'belong technologies', 'tata chemicals', 'saraswati online .com academy', 'hsbc electronic data processing', 'wipro limited', 'widasconcepts', 'l t infra', 'mrf limited', 'efd induction', 'neutrinos technology', 'hls asia', 'aarvee associates', 'endurance technologies', 'jsw steel ltd', 'beml', 'dquotient', 'enzene biosciences', 'afcons infrastructure', 'tavant technologies', 'john deere', 'mercedes benz r d', 'mahindra mahindra', 'oracle india', 'd e shaw', 'amazon', 'honeywell technology', 'infoworks data', 'wipro', 'publicis sapient', 'flipkart', 'adobe systems', 'ather energy', 'citi india', 'abinbev', 'swiggy', 'ansys software', 'uber india', 'standard chartered gbs', 'american express', 'boeing', 'l t infotech', 'tenovia solutions', 'saint gobain india', 'applied materials', 'osi energy automation india', 'dell technologies', 'gnani innovations', 'kla tencor', 'pulse secure', 'cadence design systems', 'droona innovations india pvt . ltd', 'siemens technology', 'peacock solar', 'nxp semiconductors', 'volvo group india', 'tata steel', 'mtr foods', 'cummins india limited', 'dr . reddy s laboratories', 'servicenow', 'deutsche bank', 'sedemac mechatronics pvt ltd', 'hewlett packard enterprise', 'royal bank of scotland natwest group ', 'strand life sciences', 'ushur technologies', 'deskera systems', 'ipetronik india private limited', 'optum uhg', 'becton dickinson', 'ford motors india private limited', 'fractal analytics', 'garrett motion technologies pvt ltd', 'dbs bank', 'micron', 'legato health technologies', 'mphasis limited normal ', 'google india', 'de shaw', 'barclays', 'disney hotstar', 'mathworks', 'ge healthcare', 'twilio', 'accenture', 'virtueinfo tech', 'pidilite industries', 'pricewaterhousecoopers pwc ', 'machani group', 'arm embedded technologies pvt ltd', 'tcs', 'outlook publishing', 'hoggy litifer technologies pvt . ltd . ', 'databricks', 'stmicroelectronics'])\n"
          ]
        }
      ]
    },
    {
      "cell_type": "code",
      "source": [
        "len(keywords)"
      ],
      "metadata": {
        "colab": {
          "base_uri": "https://localhost:8080/"
        },
        "id": "fbbWsCLGMhe9",
        "outputId": "71a53b42-c9d3-493b-d213-2b4b68fb118c"
      },
      "execution_count": null,
      "outputs": [
        {
          "output_type": "execute_result",
          "data": {
            "text/plain": [
              "216"
            ]
          },
          "metadata": {},
          "execution_count": 27
        }
      ]
    },
    {
      "cell_type": "code",
      "source": [
        "cd ../Extracting-keywords"
      ],
      "metadata": {
        "id": "YMQKMc81QiiK"
      },
      "execution_count": null,
      "outputs": []
    },
    {
      "cell_type": "code",
      "source": [
        "import json\n",
        "with open(json_export, 'w') as jsonfile:\n",
        "  json.dump(keywords, jsonfile)"
      ],
      "metadata": {
        "id": "RqiDVTEmP8-A"
      },
      "execution_count": null,
      "outputs": []
    },
    {
      "cell_type": "code",
      "source": [],
      "metadata": {
        "id": "_97q0fqQQTWh"
      },
      "execution_count": null,
      "outputs": []
    }
  ]
}